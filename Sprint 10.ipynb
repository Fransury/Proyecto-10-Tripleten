{
 "cells": [
  {
   "cell_type": "markdown",
   "metadata": {},
   "source": [
    "# Análisis de Mercado para un Café Robotizado en Los Ángeles\n",
    "\n",
    "# Introducción\n",
    "He decidido emprender un innovador proyecto, abrir un pequeño café atendido por robots en la ciudad de Los Ángeles, este concepto futurista tiene un gran potencial, pero también requiere una inversión significativa. Para atraer a posibles inversionistas, es esencial demostrar un conocimiento profundo del mercado actual y prever la sostenibilidad del negocio una vez que la novedad de los camareros robot desaparezca.\n",
    "\n",
    "Como experto en análisis de datos, voy a preparar un estudio de mercado utilizando datos abiertos sobre restaurantes en Los Ángeles. Este análisis permitirá comprender las tendencias del mercado, identificar oportunidades y formular recomendaciones estratégicas para asegurar el éxito a largo plazo del café robotizado.\n",
    "\n",
    "# Objetivos del Proyecto\n",
    "1. Preparación de Datos: Descargar y limpiar el conjunto de datos de restaurantes en Los Ángeles.\n",
    "2. Análisis de Datos: Realizar un análisis exhaustivo para entender las dinámicas del mercado. Crear gráficos informativos que respalden los hallazgos.\n",
    "3. Presentación de Resultados: Elaborar una presentación profesional para inversores.\n",
    "\n",
    "# Herramientas y Librerías de Python\n",
    "- Pandas: Para la manipulación y análisis de datos.\n",
    "- NumPy: Para operaciones numéricas eficientes.\n",
    "- Matplotlib y Seaborn: Para la creación de visualizaciones.\n",
    "- Jupyter Notebook: Para documentar y presentar el análisis de manera interactiva."
   ]
  },
  {
   "cell_type": "markdown",
   "metadata": {},
   "source": [
    "## Paso: Descargar y Preparar los Datos "
   ]
  },
  {
   "cell_type": "code",
   "execution_count": 1,
   "metadata": {},
   "outputs": [],
   "source": [
    "# Inicialización\n",
    "import pandas as pd\n",
    "import seaborn as sns\n",
    "import matplotlib.pyplot as plt"
   ]
  },
  {
   "cell_type": "code",
   "execution_count": 2,
   "metadata": {},
   "outputs": [
    {
     "name": "stdout",
     "output_type": "stream",
     "text": [
      "<class 'pandas.core.frame.DataFrame'>\n",
      "RangeIndex: 9651 entries, 0 to 9650\n",
      "Data columns (total 6 columns):\n",
      " #   Column       Non-Null Count  Dtype \n",
      "---  ------       --------------  ----- \n",
      " 0   id           9651 non-null   int64 \n",
      " 1   object_name  9651 non-null   object\n",
      " 2   address      9651 non-null   object\n",
      " 3   chain        9648 non-null   object\n",
      " 4   object_type  9651 non-null   object\n",
      " 5   number       9651 non-null   int64 \n",
      "dtypes: int64(2), object(4)\n",
      "memory usage: 452.5+ KB\n"
     ]
    },
    {
     "data": {
      "text/html": [
       "<div>\n",
       "<style scoped>\n",
       "    .dataframe tbody tr th:only-of-type {\n",
       "        vertical-align: middle;\n",
       "    }\n",
       "\n",
       "    .dataframe tbody tr th {\n",
       "        vertical-align: top;\n",
       "    }\n",
       "\n",
       "    .dataframe thead th {\n",
       "        text-align: right;\n",
       "    }\n",
       "</style>\n",
       "<table border=\"1\" class=\"dataframe\">\n",
       "  <thead>\n",
       "    <tr style=\"text-align: right;\">\n",
       "      <th></th>\n",
       "      <th>id</th>\n",
       "      <th>object_name</th>\n",
       "      <th>address</th>\n",
       "      <th>chain</th>\n",
       "      <th>object_type</th>\n",
       "      <th>number</th>\n",
       "    </tr>\n",
       "  </thead>\n",
       "  <tbody>\n",
       "    <tr>\n",
       "      <th>0</th>\n",
       "      <td>11786</td>\n",
       "      <td>HABITAT COFFEE SHOP</td>\n",
       "      <td>3708 N EAGLE ROCK BLVD</td>\n",
       "      <td>False</td>\n",
       "      <td>Cafe</td>\n",
       "      <td>26</td>\n",
       "    </tr>\n",
       "    <tr>\n",
       "      <th>1</th>\n",
       "      <td>11787</td>\n",
       "      <td>REILLY'S</td>\n",
       "      <td>100 WORLD WAY 120</td>\n",
       "      <td>False</td>\n",
       "      <td>Restaurant</td>\n",
       "      <td>9</td>\n",
       "    </tr>\n",
       "    <tr>\n",
       "      <th>2</th>\n",
       "      <td>11788</td>\n",
       "      <td>STREET CHURROS</td>\n",
       "      <td>6801 HOLLYWOOD BLVD 253</td>\n",
       "      <td>False</td>\n",
       "      <td>Fast Food</td>\n",
       "      <td>20</td>\n",
       "    </tr>\n",
       "    <tr>\n",
       "      <th>3</th>\n",
       "      <td>11789</td>\n",
       "      <td>TRINITI ECHO PARK</td>\n",
       "      <td>1814 W SUNSET BLVD</td>\n",
       "      <td>False</td>\n",
       "      <td>Restaurant</td>\n",
       "      <td>22</td>\n",
       "    </tr>\n",
       "    <tr>\n",
       "      <th>4</th>\n",
       "      <td>11790</td>\n",
       "      <td>POLLEN</td>\n",
       "      <td>2100 ECHO PARK AVE</td>\n",
       "      <td>False</td>\n",
       "      <td>Restaurant</td>\n",
       "      <td>20</td>\n",
       "    </tr>\n",
       "  </tbody>\n",
       "</table>\n",
       "</div>"
      ],
      "text/plain": [
       "      id          object_name                  address  chain object_type  \\\n",
       "0  11786  HABITAT COFFEE SHOP   3708 N EAGLE ROCK BLVD  False        Cafe   \n",
       "1  11787             REILLY'S        100 WORLD WAY 120  False  Restaurant   \n",
       "2  11788       STREET CHURROS  6801 HOLLYWOOD BLVD 253  False   Fast Food   \n",
       "3  11789    TRINITI ECHO PARK       1814 W SUNSET BLVD  False  Restaurant   \n",
       "4  11790               POLLEN       2100 ECHO PARK AVE  False  Restaurant   \n",
       "\n",
       "   number  \n",
       "0      26  \n",
       "1       9  \n",
       "2      20  \n",
       "3      22  \n",
       "4      20  "
      ]
     },
     "metadata": {},
     "output_type": "display_data"
    },
    {
     "data": {
      "text/plain": [
       "0"
      ]
     },
     "execution_count": 2,
     "metadata": {},
     "output_type": "execute_result"
    }
   ],
   "source": [
    "# Cargar los datos\n",
    "data = pd.read_csv('/datasets/rest_data_us_upd.csv')\n",
    "\n",
    "# Verificar la información\n",
    "data.info()\n",
    "display(data.head())\n",
    "data.duplicated().sum()"
   ]
  },
  {
   "cell_type": "markdown",
   "metadata": {},
   "source": [
    "# Observaciones para la muestra de datos \n",
    "\n",
    "La mayoría de las columnas están completas, con 9651 entradas. Sin embargo, la columna chain tiene 3 valores nulos (9651 registros en total, 9648 no nulos), lo que representa una pequeña porción del dataset, el dataset no contiene datos dúplicados.\n",
    "\n",
    "Las columnas tienen tipos de datos coherentes (int64 para identificadores y número de asientos, object para nombres, direcciones, y categorías). Esto sugiere que los datos están bien preparados para análisis posteriores.\n",
    "\n",
    "Los valores nulos en la columna chain deben ser tratados antes de realizar análisis específicos sobre la pertenencia a cadenas. Se pueden eliminar estos registros, imputarlos si es posible, o clasificarlos como \"desconocidos\" según el contexto y la importancia de esta variable en el análisis.\n",
    "\n",
    "La columna number (que representa el número de asientos) es completa, lo que permite un análisis confiable sobre la capacidad de los establecimientos.\n",
    "La columna object_type está completamente rellena, lo que es crucial para analizar la distribución y características de los diferentes tipos de establecimientos.\n",
    "\n",
    "Dado que el dataset contiene información esencial como el tipo de establecimiento (object_type), la capacidad (number), y la pertenencia a una cadena (chain), es posible realizar análisis detallados sobre las tendencias del mercado, características de los restaurantes de cadena versus independientes, y la distribución geográfica de los establecimientos en Los Ángeles.\n",
    "\n",
    "# Recomendaciones Iniciales\n",
    "\n",
    "Es necesario abordar los valores nulos en la columna chain antes de realizar análisis que involucren esta variable. Dependiendo del análisis, podriamos optar por eliminar esos registros, imputar los valores faltantes o categorizarlos como \"desconocidos\".\n",
    "\n",
    "Una vez tratados los valores nulos, el siguiente paso sería explorar cómo la variable chain afecta otras métricas como el número de asientos y la ubicación geográfica de los restaurantes.\n",
    "\n",
    "Dado que la columna address está completa, es posible realizar un análisis geoespacial para entender mejor la distribución de restaurantes en Los Ángeles, lo que podría ser crucial para la estrategia de localización del nuevo café.\n",
    "Preparación para la Presentación:\n",
    "\n",
    "Estos datos parecen estar en una condición adecuada para la creación de visualizaciones y análisis adicionales, lo que permitirá presentar un informe detallado y visualmente convincente a los inversionistas. Estos hallazgos sugieren que el dataset es lo suficientemente robusto para proceder con un análisis más profundo, permitiendo identificar tendencias clave que podrían influir en las decisiones estratégicas para el desarrollo del café robotizado."
   ]
  },
  {
   "cell_type": "code",
   "execution_count": 3,
   "metadata": {},
   "outputs": [
    {
     "name": "stdout",
     "output_type": "stream",
     "text": [
      "<class 'pandas.core.frame.DataFrame'>\n",
      "RangeIndex: 9651 entries, 0 to 9650\n",
      "Data columns (total 6 columns):\n",
      " #   Column       Non-Null Count  Dtype \n",
      "---  ------       --------------  ----- \n",
      " 0   id           9651 non-null   int64 \n",
      " 1   object_name  9651 non-null   object\n",
      " 2   address      9651 non-null   object\n",
      " 3   chain        9651 non-null   object\n",
      " 4   object_type  9651 non-null   object\n",
      " 5   number       9651 non-null   int64 \n",
      "dtypes: int64(2), object(4)\n",
      "memory usage: 452.5+ KB\n"
     ]
    }
   ],
   "source": [
    "# Manejo de valores Ausentes y Duplicados\n",
    "data['chain'].fillna('Unknown', inplace=True) \n",
    "data.info()"
   ]
  },
  {
   "cell_type": "markdown",
   "metadata": {},
   "source": [
    "## Paso: Análisis de Datos"
   ]
  },
  {
   "cell_type": "code",
   "execution_count": 4,
   "metadata": {},
   "outputs": [
    {
     "data": {
      "image/png": "[encoded data removed]",
      "text/plain": [
       "<Figure size 1000x600 with 1 Axes>"
      ]
     },
     "metadata": {},
     "output_type": "display_data"
    }
   ],
   "source": [
    "# Proporciones de Tipos de Establecimientos\n",
    "plt.figure(figsize=(10,6))\n",
    "sns.countplot(data=data, x='object_type', order=data['object_type'].value_counts().index, palette='pastel')\n",
    "plt.xticks(rotation=45)\n",
    "plt.title('Proporción de Tipos de Establecimientos')\n",
    "plt.xlabel('Tipo de Establecimientos')\n",
    "plt.ylabel('Número de Negocios')\n",
    "plt.show()"
   ]
  },
  {
   "cell_type": "markdown",
   "metadata": {},
   "source": [
    "# Proporción de Tipos de Establecimientos\n",
    "\n",
    "Los restaurantes constituyen la mayoría de los establecimientos en Los Ángeles, con más de 7000 registros, seguido por fast food con aproximadamente 1000. Este dominio sugiere que el mercado está altamente enfocado en los restaurantes convencionales, otros tipos de establecimientos como cafeterías, pizzerías, bares y panaderías tienen una presencia mucho menor. Esto indica que, aunque hay diversidad en los tipos de establecimientos, la mayoría de la oferta se concentra en restaurantes."
   ]
  },
  {
   "cell_type": "code",
   "execution_count": 5,
   "metadata": {},
   "outputs": [
    {
     "data": {
      "image/png": "[encoded data removed]",
      "text/plain": [
       "<Figure size 1000x600 with 1 Axes>"
      ]
     },
     "metadata": {},
     "output_type": "display_data"
    }
   ],
   "source": [
    "# Proporciones de Establecimientos de Cadena vs. Independientes\n",
    "plt.figure(figsize=(10,6))\n",
    "sns.countplot(data=data, x='chain', hue='chain', palette='pastel')\n",
    "plt.title('Proporción de Establecimientos de Cadena vs. Independientes')\n",
    "plt.xlabel('Cadena vs Independientes')\n",
    "plt.ylabel('# de Establecimientos de Cadenas e Independientes')\n",
    "plt.show()"
   ]
  },
  {
   "cell_type": "markdown",
   "metadata": {},
   "source": [
    "# Proporción de Establecimientos de Cadena vs. Independientes\n",
    "\n",
    "La mayoría de los establecimientos no pertenecen a cadenas, con más de 6000 registros, mientras que los establecimientos que sí pertenecen a una cadena representan una proporción significativa pero menor, con alrededor de 3500 registros. Dado que los establecimientos independientes son más comunes, el nuevo café robotizado podría necesitar destacar por su singularidad o innovaciones adicionales para competir en este mercado saturado de opciones no pertenecientes a cadenas."
   ]
  },
  {
   "cell_type": "code",
   "execution_count": 6,
   "metadata": {},
   "outputs": [
    {
     "data": {
      "text/plain": [
       "Bakery        1.000000\n",
       "Cafe          0.611494\n",
       "Fast Food     0.567542\n",
       "Pizza         0.478125\n",
       "Restaurant    0.315920\n",
       "Bar           0.263699\n",
       "Name: object_type, dtype: float64"
      ]
     },
     "metadata": {},
     "output_type": "display_data"
    },
    {
     "data": {
      "image/png": "[encoded data removed]",
      "text/plain": [
       "<Figure size 1000x600 with 1 Axes>"
      ]
     },
     "metadata": {},
     "output_type": "display_data"
    }
   ],
   "source": [
    "# Total de establecimientos por tipo\n",
    "total_types = data['object_type'].value_counts()\n",
    "\n",
    "# Total de cadenas por tipo de establecimiento\n",
    "chain_types = data[data['chain'] == True]['object_type'].value_counts()\n",
    "\n",
    "# Calcular la proporción de cadenas dentro de cada tipo de establecimiento\n",
    "proportion_chains = (chain_types / total_types).sort_values(ascending=False)\n",
    "\n",
    "# Mostrar las proporciones calculadas\n",
    "display(proportion_chains)\n",
    "\n",
    "# Graficar las proporciones\n",
    "plt.figure(figsize=(10, 6))\n",
    "sns.barplot(x=proportion_chains.index, y=proportion_chains.values, palette='pastel')\n",
    "plt.xticks(rotation=45)\n",
    "plt.title('Proporción de Establecimientos que Son Habitualmente Cadenas')\n",
    "plt.xlabel('Tipo de Establecimiento')\n",
    "plt.ylabel('Proporción de Cadenas')\n",
    "plt.show()"
   ]
  },
  {
   "cell_type": "markdown",
   "metadata": {},
   "source": [
    "# Distribución de tipos de establecimientos que son habitualmente cadenas\n",
    "\n",
    "Las panaderías (Bakery) tienen la mayor proporción de cadenas, prácticamente el 100%. Esto sugiere que este tipo de establecimiento es muy propenso a ser parte de una cadena. Las cadenas de panaderías parecen ser dominantes en el mercado.\n",
    "\n",
    "Los cafés (Café) tienen una alta proporción de cadenas, superior al 60%. Esto indica que los cafés también son comúnmente operados como cadenas, lo cual es consistente con la presencia de muchas franquicias populares de café.\n",
    "\n",
    "Los establecimientos de comida rápida (Fast Food) también muestran una alta tendencia a ser cadenas, con una proporción cercana al 60%. Esto es esperable, dado que la comida rápida suele estar dominada por grandes cadenas multinacionales.\n",
    "\n",
    "Las pizzerías (Pizza) tienen una proporción de cadenas cercana al 50%. Esto muestra que aunque las pizzerías son frecuentemente parte de cadenas, todavía existe una significativa presencia de pizzerías independientes.\n",
    "\n",
    "Los restaurantes (Restaurant) tienen una proporción más baja de cadenas, por debajo del 40%. Esto sugiere que, aunque hay cadenas de restaurantes, una gran parte del mercado está constituida por restaurantes independientes.\n",
    "\n",
    "Los bares (Bar) tienen la proporción más baja de cadenas, cercana al 30%. Esto indica que la mayoría de los bares son independientes y no forman parte de cadenas, lo que puede estar relacionado con la naturaleza más personalizada y local de estos negocios.\n",
    "\n",
    "Los resultados muestran que ciertos tipos de establecimientos, como las panaderías, cafés, y locales de comida rápida, son más propensos a operar como cadenas. En cambio, restaurantes y bares tienden a ser más independientes. Estos hallazgos son importantes para entender las dinámicas de mercado y pueden ayudar en la toma de decisiones sobre la viabilidad de convertir un tipo específico de negocio en una cadena."
   ]
  },
  {
   "cell_type": "code",
   "execution_count": 7,
   "metadata": {},
   "outputs": [
    {
     "data": {
      "image/png": "[encoded data removed]",
      "text/plain": [
       "<Figure size 1000x600 with 1 Axes>"
      ]
     },
     "metadata": {},
     "output_type": "display_data"
    }
   ],
   "source": [
    "# Filtrar solo los establecimientos que son cadenas\n",
    "chain_data = data[data['chain'] == True]\n",
    "\n",
    "# Graficar la distribución del número de asientos en las cadenas\n",
    "plt.figure(figsize=(10, 6))\n",
    "sns.histplot(chain_data['number'], bins=20, color='pink')\n",
    "plt.title('Distribución del Número de Asientos en Establecimientos que Son Cadenas')\n",
    "plt.xlabel('Número de Asientos')\n",
    "plt.ylabel('Número de Negocios')\n",
    "plt.show()"
   ]
  },
  {
   "cell_type": "markdown",
   "metadata": {},
   "source": [
    "# Distribución del número de asientos en establecimientos que son cadenas. \n",
    "\n",
    "La mayoría de las cadenas tienen un número reducido de asientos, esto es evidente por la alta frecuencia en las primeras barras, que representan establecimientos con menos de 50 asientos.\n",
    "\n",
    "A medida que aumenta el número de asientos, la frecuencia de cadenas disminuye considerablemente, existen pocas cadenas que tienen más de 100 asientos, lo que indica que la mayoría de las cadenas son relativamente pequeñas en términos de capacidad.\n",
    "\n",
    "La mayor concentración se encuentra en el rango de 0 a 50 asientos, lo que sugiere que las cadenas tienden a operar en espacios más reducidos, posiblemente para mantener una operación más eficiente y reducir costos. Hay una muy baja frecuencia de establecimientos con más de 100 asientos, indicando que las cadenas más grandes son una minoría.\n",
    "\n",
    "En resumen, este gráfico sugiere que las cadenas de establecimientos tienden a ser pequeñas en términos de capacidad, con una tendencia significativa hacia un número limitado de asientos. Esto podría ser un factor a considerar si se está evaluando la apertura de un nuevo establecimiento bajo un modelo de cadena, donde la capacidad puede estar alineada con estos patrones de menor tamaño."
   ]
  },
  {
   "cell_type": "code",
   "execution_count": 8,
   "metadata": {},
   "outputs": [
    {
     "data": {
      "text/plain": [
       "object_type\n",
       "Restaurant    48.042316\n",
       "Bar           44.767123\n",
       "Fast Food     31.837711\n",
       "Pizza         28.459375\n",
       "Cafe          25.000000\n",
       "Bakery        21.773852\n",
       "Name: number, dtype: float64"
      ]
     },
     "metadata": {},
     "output_type": "display_data"
    },
    {
     "data": {
      "image/png": "[encoded data removed]",
      "text/plain": [
       "<Figure size 1000x600 with 1 Axes>"
      ]
     },
     "metadata": {},
     "output_type": "display_data"
    }
   ],
   "source": [
    "# Promedio de Número de Asientos por Tipo de Restaurante\n",
    "avg_seats = data.groupby('object_type')['number'].mean().sort_values(ascending=False)\n",
    "display(avg_seats)\n",
    "\n",
    "avg_seats.plot(kind='bar', figsize=(10,6), color='#8b9dce')\n",
    "plt.title('Promedio de Número de Asientos por Tipo de Negocio')\n",
    "plt.xlabel('Tipo de Negocio')\n",
    "plt.ylabel('Número Promedio de Asientos')\n",
    "plt.xticks(rotation=45)\n",
    "plt.show()"
   ]
  },
  {
   "cell_type": "markdown",
   "metadata": {},
   "source": [
    "# Promedio de Número de Asientos por Tipo de Restaurante\n",
    "\n",
    "Los restaurantes y bares tienden a tener un mayor promedio de asientos en comparación con otros tipos de establecimientos como fast food, pizzerías, cafés y panaderías, esto sugiere que los restaurantes y bares están diseñados para acomodar a un mayor número de personas, probablemente debido a la naturaleza de su servicio que suele incluir comidas más largas y eventos sociales."
   ]
  },
  {
   "cell_type": "code",
   "execution_count": 9,
   "metadata": {},
   "outputs": [
    {
     "data": {
      "image/png": "[encoded data removed]",
      "text/plain": [
       "<Figure size 1000x600 with 1 Axes>"
      ]
     },
     "metadata": {},
     "output_type": "display_data"
    }
   ],
   "source": [
    "# Extracción de Nombres de Calles quitando solo los números iniciales\n",
    "data['street'] = data['address'].apply(lambda x: ' '.join(x.split()[1:]))\n",
    "\n",
    "# Top 10 Calles con Mayor Número de Restaurantes\n",
    "top_streets = data['street'].value_counts().head(10)\n",
    "plt.figure(figsize=(10,6))\n",
    "sns.barplot(x=top_streets.values, y=top_streets.index, palette='pastel')\n",
    "plt.title('Top 10 Calles con Mayor Número de Negocios')\n",
    "plt.xlabel('Número de Negocios')\n",
    "plt.ylabel('Calle')\n",
    "plt.show()"
   ]
  },
  {
   "cell_type": "markdown",
   "metadata": {},
   "source": [
    "# Top 10 Calles con Mayor Número de Negocios\n",
    "\n",
    "El gráfico muestra que las calles principales de Los Ángeles, como \"W SUNSET BLVD\", \"W PICO BLVD\", y \"HOLLYWOOD BLVD\", tienen la mayor concentración de negocios, esto sugiere que estas calles son zonas comerciales clave en la ciudad.\n",
    "\n",
    "La mayoría de las calles en el gráfico son bulevares (\"BLVD\"), lo que indica que estos tipos de vías son preferidas para la ubicación de negocios en Los Ángeles. Bulevares como \"SUNSET BLVD\" y \"WILSHIRE BLVD\" son reconocidos no solo por su tamaño, sino también por su importancia comercial.\n",
    "\n",
    "La lista incluye calles que están dispersas en diferentes partes de la ciudad, lo que refleja que no hay una única zona comercial dominante, sino que la actividad económica está bien distribuida por diferentes áreas. Las calles con un alto número de negocios son áreas de alto tráfico y, por lo tanto, tienen un gran potencial de mercado, esto también podría significar una alta competencia, lo que es un factor clave a considerar para cualquier nuevo negocio que desee establecerse en estas ubicaciones.\n",
    "\n",
    "Para un negocio que planea entrar en el mercado, es esencial considerar tanto la oportunidad que ofrecen estas calles como la posible saturación del mercado. Es importante evaluar la demanda y la competencia al seleccionar una ubicación.\n",
    "Este gráfico proporciona una visión clara de cuáles son las zonas más comerciales en Los Ángeles y puede ser una herramienta valiosa para decisiones estratégicas de ubicación de nuevos negocios."
   ]
  },
  {
   "cell_type": "code",
   "execution_count": 10,
   "metadata": {},
   "outputs": [
    {
     "name": "stdout",
     "output_type": "stream",
     "text": [
      "Número de calles con solo un restaurante: 2445\n"
     ]
    }
   ],
   "source": [
    "# Número de Calles con Solo un Restaurante\n",
    "single_restaurants = data['street'].value_counts().value_counts().get(1, 0)\n",
    "print(f'Número de calles con solo un restaurante: {single_restaurants}')"
   ]
  },
  {
   "cell_type": "code",
   "execution_count": 11,
   "metadata": {},
   "outputs": [
    {
     "data": {
      "image/png": "[encoded data removed]",
      "text/plain": [
       "<Figure size 1000x600 with 1 Axes>"
      ]
     },
     "metadata": {},
     "output_type": "display_data"
    }
   ],
   "source": [
    "# Contar el número de restaurantes por calle\n",
    "restaurant_counts = data['street'].value_counts()\n",
    "\n",
    "# Filtrar las calles con menos de 10 restaurantes\n",
    "streets_with_less_restaurants = restaurant_counts[restaurant_counts < 10]\n",
    "\n",
    "# Contar cuántas calles tienen un número específico de restaurantes\n",
    "streets_with_restaurants = streets_with_less_restaurants.value_counts().sort_index()\n",
    "\n",
    "# Graficar la distribución\n",
    "plt.figure(figsize=(10, 6))\n",
    "sns.barplot(x=streets_with_restaurants.index, y=streets_with_restaurants.values, palette='pastel')\n",
    "plt.yscale('log')  # Aplicar escala logarítmica en el eje Y\n",
    "\n",
    "# Resaltar la barra que corresponde a calles con exactamente un restaurante\n",
    "for index, value in enumerate(streets_with_restaurants.index):\n",
    "    if value == 1:\n",
    "        plt.bar(index, streets_with_restaurants[value], color='red')\n",
    "\n",
    "plt.title('Distribución de Calles según el Número de Restaurantes')\n",
    "plt.xlabel('Número de Restaurantes en la Calle')\n",
    "plt.ylabel('Número de Calles (Escala Logarítmica)')\n",
    "plt.show()"
   ]
  },
  {
   "cell_type": "markdown",
   "metadata": {},
   "source": [
    "#  Distribución de Calles según el Número de Restaurantes\n",
    "\n",
    "Este gráfico muestra la distribución del número de calles según la cantidad de restaurantes que tienen, aplicando una escala logarítmica en el eje Y para mejorar la visibilidad de las diferencias entre categorías.\n",
    "\n",
    "La gran mayoría de las calles tienen un único restaurante, como se destaca en la barra roja, esto indica que es muy común que los restaurantes estén distribuidos de manera dispersa, sin que muchas calles acumulen una gran cantidad de restaurantes.\n",
    "\n",
    "A medida que aumenta el número de restaurantes en una calle, el número de calles que cumplen con ese criterio disminuye drásticamente. Muy pocas calles tienen más de tres o cuatro restaurantes.\n",
    "\n",
    "El número de calles con dos o más restaurantes es significativamente menor. Esto puede indicar que en esas calles, la competencia es más intensa, y probablemente sea más difícil atraer clientes adicionales sin una propuesta de valor clara y diferenciada.\n",
    "\n",
    "Las calles con un solo restaurante representan una oportunidad potencial para nuevos negocios que busquen establecerse en áreas con menos competencia directa, esto puede ser especialmente valioso para un concepto de restaurante innovador, como un café robotizado.\n",
    "\n",
    "En las pocas calles que tienen más de dos restaurantes, puede haber un mayor riesgo de saturación del mercado, lo que podría dificultar la entrada y el éxito de nuevos restaurantes sin una diferenciación clara. Abrir en una calle con un solo restaurante podría ser ventajoso, ya que se aprovecharía de la baja competencia local. Sin embargo, esto también depende de la afluencia de personas y la demanda en esa área específica.\n",
    "\n",
    "Dado que el café robotizado es una innovación, podría atraer a clientes curiosos incluso en calles con varios restaurantes. Sin embargo, para asegurar la sostenibilidad, el negocio debería continuar ofreciendo experiencias únicas o expandirse a ubicaciones adicionales una vez que la novedad inicial disminuya.\n",
    "\n",
    "# En resumen\n",
    "\n",
    "El gráfico respalda la idea de considerar calles con baja competencia para la apertura de un nuevo establecimiento, y sugiere que una estrategia diferenciada será clave para el éxito a largo plazo, especialmente si se considera una futura expansión a otras calles o la creación de una cadena."
   ]
  },
  {
   "cell_type": "code",
   "execution_count": 12,
   "metadata": {},
   "outputs": [
    {
     "data": {
      "image/png": "[encoded data removed]",
      "text/plain": [
       "<Figure size 1400x800 with 1 Axes>"
      ]
     },
     "metadata": {},
     "output_type": "display_data"
    }
   ],
   "source": [
    "# Distribución del Número de Asientos en Calles con Muchos Negocios\n",
    "\n",
    "# Crear una nueva columna con el numero de restaurantes en cada calle\n",
    "data['num_restaurants'] = data['street'].map(restaurant_counts)\n",
    "\n",
    "# Identificar las calles con más restaurantes que el umbral\n",
    "high_rest_streets = data['street'].value_counts()[data['street'].value_counts() > 5].index\n",
    "\n",
    "# Filtrar los datos para incluir solo las calles con muchos restaurantes\n",
    "subset = data[data['street'].isin(high_rest_streets)]\n",
    "\n",
    "# Crear el histograma\n",
    "plt.figure(figsize=(14,8))\n",
    "sns.histplot(data=subset, x='number', bins=30, color='skyblue')\n",
    "plt.title('Distribución del Número de Asientos en Calles con Muchos Negocios')\n",
    "plt.xlabel('Número de Asientos')\n",
    "plt.ylabel('Número de Negocios')\n",
    "plt.grid(True)\n",
    "plt.show()"
   ]
  },
  {
   "cell_type": "markdown",
   "metadata": {},
   "source": [
    "# Distribución del Número de Asientos en Calles con Muchos Restaurantes:\n",
    "\n",
    "La mayoría de los negocios en calles concurridas tienen un número relativamente bajo de asientos, con un pico en la franja de 0 a 50 asientos. Esto sugiere que, incluso en calles con muchos negocios, los establecimientos tienden a ser pequeños en términos de capacidad de asientos.\n",
    "\n",
    "A medida que aumenta el número de asientos, la cantidad de negocios disminuye significativamente, aunque todavía hay algunos negocios con un gran número de asientos, incluso superando los 200 asientos. Esto puede indicar la presencia de algunos establecimientos más grandes o incluso cadenas de restaurantes en estas calles.\n",
    "\n",
    "Las calles con muchos negocios pero con baja capacidad de asientos podrían presentar oportunidades para la introducción de restaurantes más grandes, dependiendo de la demanda local. Alternativamente, esto puede reflejar un mercado ya saturado donde los espacios más pequeños son la norma debido a limitaciones físicas o alta competencia.\n",
    "\n",
    "La dispersión en el número de asientos también sugiere que existe una variedad significativa en el tipo de negocios presentes en estas calles, desde pequeños cafés o fast food con pocos asientos hasta restaurantes más grandes que pueden albergar a muchas personas.\n",
    "\n",
    "Este análisis puede ayudar a comprender mejor la capacidad y la competencia en áreas específicas, lo cual es valioso para el desarrollo comercial y la planificación urbana.\n",
    "\n",
    "\n",
    "# En resumen\n",
    "\n",
    "En las calles con más restaurantes, la mayoría de los establecimientos tienden a tener entre 6 y 11 restaurantes, con un rango amplio en el número de asientos, que puede ir desde menos de 20 hasta más de 200, no parece haber una correlación clara entre el número de restaurantes en una calle y el número de asientos por restaurante, algunas calles tienen restaurantes con una amplia capacidad mientras que otras tienen más restaurantes pero con menor capacidad por local."
   ]
  },
  {
   "cell_type": "markdown",
   "metadata": {},
   "source": [
    "# Conclusiones Finales y Recomendaciones \n",
    "\n",
    "Dado que los restaurantes son abrumadoramente dominantes en Los Ángeles y que la mayoría son independientes, el café robotizado debe buscar diferenciarse no solo por la tecnología empleada, sino también por otros factores como la experiencia del cliente, la ubicación y la oferta de productos únicos.\n",
    "\n",
    "Las calles con un gran número de restaurantes suelen ser áreas de alta concentración comercial, donde la competencia es intensa pero también existe un gran flujo de clientes. Estas áreas son atractivas para la apertura de nuevos restaurantes, ya que la alta densidad de restaurantes indica una fuerte demanda. \n",
    "\n",
    "Las calles con más restaurantes muestran una gran diversidad en términos de capacidad de asientos, esto sugiere que estas áreas probablemente atraen a una amplia variedad de clientes, desde aquellos que buscan una experiencia rápida y casual hasta quienes prefieren un ambiente más formal y con capacidad para grupos grandes, lo que sugiere que estos tipos de establecimientos están optimizados para atender a grandes grupos o a una alta rotación de clientes. Esto podría estar relacionado con la necesidad de generar mayores ingresos a través del volumen de ventas.\n",
    "\n",
    "Las calles con un gran número de restaurantes probablemente estén ubicadas en zonas comerciales densas o cerca de instituciones grandes (como universidades). Esto puede estar relacionado con la necesidad de ofrecer una variedad de opciones para diferentes preferencias y presupuestos. Los restaurantes y bares parecen estar estratégicamente diseñados para maximizar el número de clientes al tener más asientos disponibles, lo cual puede ser una ventaja competitiva en zonas donde la competencia es alta.\n",
    "\n",
    "Fast Food y Pizzerías son establecimientos que tienden a tener menos asientos en promedio, lo que es consistente con su modelo de negocio de alta rotación y tiempos de permanencia más cortos. Mientras Cafés y Panaderías tienen la menor cantidad de asientos, lo cual es coherente con su enfoque en un servicio más casual y rápido.\n",
    "\n",
    "Incluso en las calles con muchos restaurantes, hay una gran variabilidad en el número de asientos por establecimiento, esto indica que no hay una \"talla única\" cuando se trata de la capacidad de los restaurantes en áreas concurridas, diferentes modelos de negocio pueden coexistir y prosperar en la misma área.\n",
    "\n",
    "\n",
    "# Recomendaciones:\n",
    "\n",
    "- Restaurantes o Bares: Si el objetivo es maximizar la capacidad de asientos para generar altos ingresos a través de grupos grandes y alta rotación, los restaurantes y bares son opciones óptimas. Considerar la apertura de un restaurante con un enfoque en cenas formales, eventos sociales o entretenimiento puede ser rentable en estas áreas densamente pobladas.\n",
    "\n",
    "- Fast Food y Pizzerías: Para capturar el mercado de clientes que buscan una opción rápida y accesible, abrir un establecimiento de fast food o una pizzería con un enfoque en el servicio rápido y opciones para llevar podría ser una estrategia efectiva. Aquí, menos asientos pueden ser compensados con una alta rotación de clientes.\n",
    "\n",
    "Dependiendo del tipo de restaurante, es importante optimizar el número de asientos para maximizar la rentabilidad sin sacrificar la comodidad del cliente. Por ejemplo, un bar o restaurante puede necesitar más asientos para grandes grupos, mientras que un café puede centrarse en una experiencia más íntima y acogedora.\n",
    "\n",
    "Considerar la variabilidad en el número de asientos para adaptarse a diferentes tipos de clientes, esto podría significar tener una combinación de mesas grandes y pequeñas para diferentes necesidades.\n",
    "\n",
    "Dado que las áreas con alta densidad de restaurantes soportan múltiples modelos de negocio, existe una buena oportunidad para desarrollar una cadena de restaurantes. Una cadena podría beneficiarse al segmentar sus establecimientos según el tipo de cliente y la hora del día. Por ejemplo, una marca podría abrir diferentes tipos de restaurantes bajo el mismo nombre (un bar de noche, un café durante el día) para capturar diferentes segmentos del mercado en la misma área.\n",
    "\n",
    "Aunque los establecimientos de cadenas tienen una presencia significativa, no dominan el mercado, esto sugiere que hay espacio para la expansión de una nueva cadena, especialmente si el café robotizado puede ofrecer una propuesta de valor convincente y única en comparación con los negocios existentes. Al desarrollar una cadena, es crucial estandarizar la calidad y la experiencia del cliente mientras se mantiene la flexibilidad para adaptar el tamaño y el diseño según la ubicación específica. Identificar y expandirse en calles similares a las que muestran alta densidad de negocios en los datos. Estas ubicaciones probablemente tienen un alto tráfico de clientes y son ideales para establecer nuevas sucursales.\n",
    "\n",
    "Dependiendo del área, ajustar el modelo de negocio. En áreas con mayor competencia, puede ser necesario diferenciarse mediante un servicio más especializado o una propuesta única de valor (como un menú exclusivo o un concepto de diseño distintivo), dado que tanto los establecimientos de cadenas como los independientes tienen una distribución similar en términos de asientos, se recomienda que el café mantenga un tamaño moderado que maximice la eficiencia operativa sin sacrificar la comodidad del cliente.\n",
    "\n",
    "# En resumen,\n",
    "\n",
    "el análisis sugiere que hay un gran potencial para desarrollar una cadena de restaurantes, especialmente si se optimizan los espacios de acuerdo con la demanda y se diversifican los formatos para captar diferentes segmentos de clientes en áreas de alta densidad. Estas conclusiones y recomendaciones pueden servir como base para la toma de decisiones estratégicas sobre la entrada al mercado y la expansión futura del café robotizado en Los Ángeles.\n",
    "\n",
    "Si se está planeando desarrollar una cadena, un restaurante o un establecimiento de comida rápida podría ser una opción viable y segura dada la tendencia en el mercado. Para diferenciarse, explorar nichos dentro de las categorías menos comunes (como panaderías o cafeterías) podría ofrecer una ventaja competitiva, especialmente si se logra una propuesta única de valor.\n",
    "\n",
    "Estos patrones pueden ayudar a planificar nuevas aperturas de restaurantes o a comprender mejor la dinámica competitiva de las áreas con una alta densidad de restaurantes.\n",
    "\n",
    "Es importante considerar cómo se pueden replicar los procesos, mantener la calidad y gestionar la cadena de suministro al escalar el negocio, especialmente en el caso de tipos de establecimientos menos comunes."
   ]
  },
  {
   "cell_type": "markdown",
   "metadata": {},
   "source": [
    "## Paso: Presentación de Resultados\n",
    "\n",
    "https://github.com/Fransury/Sprint-10.git "
   ]
  }
 ],
 "metadata": {
  "ExecuteTimeLog": [
   {
    "duration": 279,
    "start_time": "2024-08-27T13:28:14.702Z"
   },
   {
    "duration": 36,
    "start_time": "2024-08-27T13:32:00.554Z"
   },
   {
    "duration": 34,
    "start_time": "2024-08-27T13:43:53.593Z"
   },
   {
    "duration": 174,
    "start_time": "2024-08-27T13:46:03.502Z"
   },
   {
    "duration": 24,
    "start_time": "2024-08-27T13:46:09.661Z"
   },
   {
    "duration": 11,
    "start_time": "2024-08-27T13:46:42.560Z"
   },
   {
    "duration": 13,
    "start_time": "2024-08-27T13:47:03.079Z"
   },
   {
    "duration": 13,
    "start_time": "2024-08-27T13:47:10.993Z"
   },
   {
    "duration": 468,
    "start_time": "2024-08-27T13:47:55.804Z"
   },
   {
    "duration": 32,
    "start_time": "2024-08-27T13:48:04.437Z"
   },
   {
    "duration": 11,
    "start_time": "2024-08-27T13:48:17.231Z"
   },
   {
    "duration": 12,
    "start_time": "2024-08-27T13:51:13.653Z"
   },
   {
    "duration": 11,
    "start_time": "2024-08-27T13:51:19.299Z"
   },
   {
    "duration": 10,
    "start_time": "2024-08-27T13:51:36.867Z"
   },
   {
    "duration": 9,
    "start_time": "2024-08-27T14:25:40.642Z"
   },
   {
    "duration": 2513,
    "start_time": "2024-08-27T14:25:55.757Z"
   },
   {
    "duration": 33,
    "start_time": "2024-08-27T14:25:58.273Z"
   },
   {
    "duration": 9,
    "start_time": "2024-08-27T14:25:58.309Z"
   },
   {
    "duration": 10,
    "start_time": "2024-08-27T14:26:35.183Z"
   },
   {
    "duration": 14,
    "start_time": "2024-08-27T14:34:31.847Z"
   },
   {
    "duration": 217,
    "start_time": "2024-08-27T15:15:31.473Z"
   },
   {
    "duration": 17,
    "start_time": "2024-08-27T15:15:41.607Z"
   },
   {
    "duration": 136,
    "start_time": "2024-08-27T15:15:51.799Z"
   },
   {
    "duration": 102,
    "start_time": "2024-08-27T15:17:34.105Z"
   },
   {
    "duration": 163,
    "start_time": "2024-08-27T15:20:59.322Z"
   },
   {
    "duration": 112,
    "start_time": "2024-08-27T15:21:06.775Z"
   },
   {
    "duration": 139,
    "start_time": "2024-08-27T15:21:33.290Z"
   },
   {
    "duration": 747,
    "start_time": "2024-08-27T15:22:14.295Z"
   },
   {
    "duration": 32,
    "start_time": "2024-08-27T15:22:15.044Z"
   },
   {
    "duration": 9,
    "start_time": "2024-08-27T15:22:15.077Z"
   },
   {
    "duration": 149,
    "start_time": "2024-08-27T15:22:15.088Z"
   },
   {
    "duration": 148,
    "start_time": "2024-08-27T15:22:15.239Z"
   },
   {
    "duration": 6,
    "start_time": "2024-08-27T15:26:36.416Z"
   },
   {
    "duration": 267,
    "start_time": "2024-08-27T15:27:03.799Z"
   },
   {
    "duration": 125,
    "start_time": "2024-08-27T15:27:11.968Z"
   },
   {
    "duration": 14,
    "start_time": "2024-08-27T15:29:28.412Z"
   },
   {
    "duration": 144,
    "start_time": "2024-08-27T15:29:38.258Z"
   },
   {
    "duration": 139,
    "start_time": "2024-08-27T15:29:47.138Z"
   },
   {
    "duration": 19,
    "start_time": "2024-08-27T15:30:02.844Z"
   },
   {
    "duration": 141,
    "start_time": "2024-08-27T15:30:08.356Z"
   },
   {
    "duration": 16,
    "start_time": "2024-08-27T15:32:35.224Z"
   },
   {
    "duration": 171,
    "start_time": "2024-08-27T15:32:52.072Z"
   },
   {
    "duration": 7,
    "start_time": "2024-08-27T15:33:28.263Z"
   },
   {
    "duration": 18,
    "start_time": "2024-08-27T15:34:02.983Z"
   },
   {
    "duration": 21,
    "start_time": "2024-08-27T15:34:09.613Z"
   },
   {
    "duration": 20,
    "start_time": "2024-08-27T15:34:52.916Z"
   },
   {
    "duration": 24,
    "start_time": "2024-08-27T15:35:04.365Z"
   },
   {
    "duration": 297,
    "start_time": "2024-08-27T15:38:40.343Z"
   },
   {
    "duration": 240,
    "start_time": "2024-08-27T15:39:04.913Z"
   },
   {
    "duration": 2528,
    "start_time": "2024-08-28T13:47:47.822Z"
   },
   {
    "duration": 49,
    "start_time": "2024-08-28T13:47:50.352Z"
   },
   {
    "duration": 11,
    "start_time": "2024-08-28T13:47:50.402Z"
   },
   {
    "duration": 149,
    "start_time": "2024-08-28T13:47:50.415Z"
   },
   {
    "duration": 149,
    "start_time": "2024-08-28T13:47:50.565Z"
   },
   {
    "duration": 7,
    "start_time": "2024-08-28T13:47:50.716Z"
   },
   {
    "duration": 141,
    "start_time": "2024-08-28T13:47:50.724Z"
   },
   {
    "duration": 154,
    "start_time": "2024-08-28T13:47:50.867Z"
   },
   {
    "duration": 182,
    "start_time": "2024-08-28T13:47:51.023Z"
   },
   {
    "duration": 6,
    "start_time": "2024-08-28T13:47:51.208Z"
   },
   {
    "duration": 280,
    "start_time": "2024-08-28T13:47:51.216Z"
   },
   {
    "duration": 333,
    "start_time": "2024-08-28T14:00:47.018Z"
   },
   {
    "duration": 142,
    "start_time": "2024-08-28T14:00:58.615Z"
   },
   {
    "duration": 177,
    "start_time": "2024-08-28T14:03:40.735Z"
   },
   {
    "duration": 170,
    "start_time": "2024-08-28T14:04:40.069Z"
   },
   {
    "duration": 186,
    "start_time": "2024-08-28T14:18:19.198Z"
   },
   {
    "duration": 189,
    "start_time": "2024-08-28T14:19:18.290Z"
   },
   {
    "duration": 574,
    "start_time": "2024-08-28T14:21:23.071Z"
   },
   {
    "duration": 300,
    "start_time": "2024-08-28T14:21:44.209Z"
   },
   {
    "duration": 407,
    "start_time": "2024-08-28T14:25:55.037Z"
   },
   {
    "duration": 6,
    "start_time": "2024-08-28T14:27:19.955Z"
   },
   {
    "duration": 149,
    "start_time": "2024-08-28T14:28:48.413Z"
   },
   {
    "duration": 249,
    "start_time": "2024-08-28T14:31:09.918Z"
   },
   {
    "duration": 234,
    "start_time": "2024-08-28T14:31:29.430Z"
   },
   {
    "duration": 757,
    "start_time": "2024-08-28T14:32:27.970Z"
   },
   {
    "duration": 33,
    "start_time": "2024-08-28T14:32:28.730Z"
   },
   {
    "duration": 22,
    "start_time": "2024-08-28T14:32:28.765Z"
   },
   {
    "duration": 137,
    "start_time": "2024-08-28T14:32:28.788Z"
   },
   {
    "duration": 149,
    "start_time": "2024-08-28T14:32:28.928Z"
   },
   {
    "duration": 13,
    "start_time": "2024-08-28T14:32:29.078Z"
   },
   {
    "duration": 138,
    "start_time": "2024-08-28T14:32:29.092Z"
   },
   {
    "duration": 200,
    "start_time": "2024-08-28T14:32:29.231Z"
   },
   {
    "duration": 180,
    "start_time": "2024-08-28T14:32:29.433Z"
   },
   {
    "duration": 6,
    "start_time": "2024-08-28T14:32:29.615Z"
   },
   {
    "duration": 268,
    "start_time": "2024-08-28T14:32:29.623Z"
   },
   {
    "duration": 4,
    "start_time": "2024-08-28T14:32:29.893Z"
   },
   {
    "duration": 220,
    "start_time": "2024-08-28T14:33:15.479Z"
   },
   {
    "duration": 231,
    "start_time": "2024-08-28T14:38:58.768Z"
   },
   {
    "duration": 233,
    "start_time": "2024-08-28T14:39:14.080Z"
   },
   {
    "duration": 346,
    "start_time": "2024-08-28T14:40:50.011Z"
   },
   {
    "duration": 343,
    "start_time": "2024-08-28T14:42:42.387Z"
   },
   {
    "duration": 195,
    "start_time": "2024-08-28T15:14:47.771Z"
   },
   {
    "duration": 343,
    "start_time": "2024-08-28T15:15:19.700Z"
   },
   {
    "duration": 80,
    "start_time": "2024-08-28T15:16:26.048Z"
   },
   {
    "duration": 185,
    "start_time": "2024-08-28T15:18:25.567Z"
   },
   {
    "duration": 143,
    "start_time": "2024-08-28T15:19:19.319Z"
   },
   {
    "duration": 125,
    "start_time": "2024-08-28T15:19:40.705Z"
   },
   {
    "duration": 125,
    "start_time": "2024-08-28T15:20:11.434Z"
   },
   {
    "duration": 130,
    "start_time": "2024-08-28T15:23:41.387Z"
   },
   {
    "duration": 139,
    "start_time": "2024-08-28T15:23:57.722Z"
   },
   {
    "duration": 143,
    "start_time": "2024-08-28T15:24:29.091Z"
   },
   {
    "duration": 125,
    "start_time": "2024-08-28T15:24:58.952Z"
   },
   {
    "duration": 135,
    "start_time": "2024-08-28T15:25:09.418Z"
   },
   {
    "duration": 647,
    "start_time": "2024-08-28T15:26:09.719Z"
   },
   {
    "duration": 177,
    "start_time": "2024-08-28T15:26:25.898Z"
   },
   {
    "duration": 139,
    "start_time": "2024-08-28T15:26:40.128Z"
   },
   {
    "duration": 140,
    "start_time": "2024-08-28T15:27:38.277Z"
   },
   {
    "duration": 300,
    "start_time": "2024-08-28T15:27:51.595Z"
   },
   {
    "duration": 168,
    "start_time": "2024-08-28T15:28:11.264Z"
   },
   {
    "duration": 139,
    "start_time": "2024-08-28T15:28:28.749Z"
   },
   {
    "duration": 170,
    "start_time": "2024-08-28T15:29:10.135Z"
   },
   {
    "duration": 751,
    "start_time": "2024-08-28T16:08:49.773Z"
   },
   {
    "duration": 41,
    "start_time": "2024-08-28T16:08:50.526Z"
   },
   {
    "duration": 19,
    "start_time": "2024-08-28T16:08:50.568Z"
   },
   {
    "duration": 146,
    "start_time": "2024-08-28T16:08:50.589Z"
   },
   {
    "duration": 145,
    "start_time": "2024-08-28T16:08:50.737Z"
   },
   {
    "duration": 12,
    "start_time": "2024-08-28T16:08:50.887Z"
   },
   {
    "duration": 130,
    "start_time": "2024-08-28T16:08:50.901Z"
   },
   {
    "duration": 229,
    "start_time": "2024-08-28T16:08:51.033Z"
   },
   {
    "duration": 203,
    "start_time": "2024-08-28T16:08:51.264Z"
   },
   {
    "duration": 17,
    "start_time": "2024-08-28T16:08:51.469Z"
   },
   {
    "duration": 373,
    "start_time": "2024-08-28T16:08:51.490Z"
   },
   {
    "duration": 154,
    "start_time": "2024-08-30T14:49:10.639Z"
   },
   {
    "duration": 2470,
    "start_time": "2024-08-30T14:54:42.462Z"
   },
   {
    "duration": 48,
    "start_time": "2024-08-30T14:54:44.935Z"
   },
   {
    "duration": 10,
    "start_time": "2024-08-30T14:54:44.984Z"
   },
   {
    "duration": 140,
    "start_time": "2024-08-30T14:54:44.995Z"
   },
   {
    "duration": 148,
    "start_time": "2024-08-30T14:54:45.138Z"
   },
   {
    "duration": 6,
    "start_time": "2024-08-30T14:54:45.288Z"
   },
   {
    "duration": 142,
    "start_time": "2024-08-30T14:54:45.295Z"
   },
   {
    "duration": 159,
    "start_time": "2024-08-30T14:54:45.438Z"
   },
   {
    "duration": 188,
    "start_time": "2024-08-30T14:54:45.599Z"
   },
   {
    "duration": 7,
    "start_time": "2024-08-30T14:54:45.790Z"
   },
   {
    "duration": 374,
    "start_time": "2024-08-30T14:54:45.799Z"
   },
   {
    "duration": 149,
    "start_time": "2024-08-30T14:58:39.923Z"
   },
   {
    "duration": 177,
    "start_time": "2024-08-30T15:00:32.465Z"
   },
   {
    "duration": 150,
    "start_time": "2024-08-30T15:02:16.545Z"
   },
   {
    "duration": 156,
    "start_time": "2024-08-30T15:02:49.233Z"
   },
   {
    "duration": 158,
    "start_time": "2024-08-30T15:03:05.775Z"
   },
   {
    "duration": 128,
    "start_time": "2024-08-30T15:10:04.673Z"
   },
   {
    "duration": 144,
    "start_time": "2024-08-30T15:13:17.652Z"
   },
   {
    "duration": 131,
    "start_time": "2024-08-30T15:16:09.313Z"
   },
   {
    "duration": 433,
    "start_time": "2024-08-30T15:23:23.627Z"
   },
   {
    "duration": 123,
    "start_time": "2024-08-30T15:24:17.211Z"
   },
   {
    "duration": 126,
    "start_time": "2024-08-30T15:24:54.143Z"
   },
   {
    "duration": 7,
    "start_time": "2024-08-30T15:25:41.322Z"
   },
   {
    "duration": 128,
    "start_time": "2024-08-30T15:25:56.976Z"
   },
   {
    "duration": 130,
    "start_time": "2024-08-30T19:14:29.512Z"
   },
   {
    "duration": 134,
    "start_time": "2024-08-30T19:15:22.558Z"
   },
   {
    "duration": 176,
    "start_time": "2024-08-30T19:15:33.824Z"
   },
   {
    "duration": 178,
    "start_time": "2024-08-30T19:16:13.982Z"
   },
   {
    "duration": 141,
    "start_time": "2024-08-30T19:16:25.058Z"
   },
   {
    "duration": 222,
    "start_time": "2024-08-30T19:16:49.360Z"
   },
   {
    "duration": 154,
    "start_time": "2024-08-30T19:17:21.936Z"
   },
   {
    "duration": 137,
    "start_time": "2024-08-30T19:17:46.629Z"
   },
   {
    "duration": 148,
    "start_time": "2024-08-30T19:38:16.573Z"
   },
   {
    "duration": 133,
    "start_time": "2024-08-30T19:38:29.640Z"
   },
   {
    "duration": 185,
    "start_time": "2024-08-30T19:39:27.399Z"
   },
   {
    "duration": 130,
    "start_time": "2024-08-30T19:39:45.625Z"
   },
   {
    "duration": 119,
    "start_time": "2024-08-30T19:39:53.256Z"
   },
   {
    "duration": 125,
    "start_time": "2024-08-30T19:40:21.288Z"
   },
   {
    "duration": 158,
    "start_time": "2024-08-30T19:41:41.705Z"
   },
   {
    "duration": 196,
    "start_time": "2024-08-30T19:44:23.659Z"
   },
   {
    "duration": 176,
    "start_time": "2024-08-30T19:45:15.279Z"
   },
   {
    "duration": 154,
    "start_time": "2024-08-30T19:45:23.493Z"
   },
   {
    "duration": 163,
    "start_time": "2024-08-30T19:45:55.231Z"
   },
   {
    "duration": 162,
    "start_time": "2024-08-30T19:57:20.490Z"
   },
   {
    "duration": 268,
    "start_time": "2024-08-30T19:57:38.684Z"
   },
   {
    "duration": 148,
    "start_time": "2024-08-30T19:57:48.607Z"
   },
   {
    "duration": 204,
    "start_time": "2024-08-30T19:58:11.123Z"
   },
   {
    "duration": 163,
    "start_time": "2024-08-31T13:00:43.339Z"
   },
   {
    "duration": 2527,
    "start_time": "2024-08-31T13:00:49.306Z"
   },
   {
    "duration": 52,
    "start_time": "2024-08-31T13:00:51.835Z"
   },
   {
    "duration": 10,
    "start_time": "2024-08-31T13:00:51.889Z"
   },
   {
    "duration": 145,
    "start_time": "2024-08-31T13:00:51.900Z"
   },
   {
    "duration": 172,
    "start_time": "2024-08-31T13:00:52.048Z"
   },
   {
    "duration": 142,
    "start_time": "2024-08-31T13:00:52.223Z"
   },
   {
    "duration": 152,
    "start_time": "2024-08-31T13:00:52.366Z"
   },
   {
    "duration": 145,
    "start_time": "2024-08-31T13:00:52.519Z"
   },
   {
    "duration": 159,
    "start_time": "2024-08-31T13:00:52.666Z"
   },
   {
    "duration": 7,
    "start_time": "2024-08-31T13:00:52.827Z"
   },
   {
    "duration": 313,
    "start_time": "2024-08-31T13:00:52.835Z"
   },
   {
    "duration": 0,
    "start_time": "2024-08-31T13:00:53.151Z"
   },
   {
    "duration": 24,
    "start_time": "2024-08-31T13:01:43.111Z"
   },
   {
    "duration": 823,
    "start_time": "2024-08-31T13:02:48.135Z"
   },
   {
    "duration": 38,
    "start_time": "2024-08-31T13:02:48.960Z"
   },
   {
    "duration": 11,
    "start_time": "2024-08-31T13:02:49.000Z"
   },
   {
    "duration": 162,
    "start_time": "2024-08-31T13:02:49.013Z"
   },
   {
    "duration": 174,
    "start_time": "2024-08-31T13:02:49.177Z"
   },
   {
    "duration": 144,
    "start_time": "2024-08-31T13:02:49.353Z"
   },
   {
    "duration": 185,
    "start_time": "2024-08-31T13:02:49.499Z"
   },
   {
    "duration": 136,
    "start_time": "2024-08-31T13:02:49.687Z"
   },
   {
    "duration": 163,
    "start_time": "2024-08-31T13:02:49.825Z"
   },
   {
    "duration": 7,
    "start_time": "2024-08-31T13:02:49.990Z"
   },
   {
    "duration": 0,
    "start_time": "2024-08-31T13:04:42.210Z"
   },
   {
    "duration": 0,
    "start_time": "2024-08-31T13:04:42.212Z"
   },
   {
    "duration": 11,
    "start_time": "2024-08-31T13:04:48.606Z"
   },
   {
    "duration": 7,
    "start_time": "2024-08-31T13:05:56.333Z"
   },
   {
    "duration": 6,
    "start_time": "2024-08-31T13:06:03.602Z"
   },
   {
    "duration": 0,
    "start_time": "2024-08-31T13:09:30.845Z"
   },
   {
    "duration": 27,
    "start_time": "2024-08-31T13:09:31.636Z"
   },
   {
    "duration": 148,
    "start_time": "2024-08-31T13:13:05.973Z"
   },
   {
    "duration": 158,
    "start_time": "2024-08-31T13:13:14.737Z"
   },
   {
    "duration": 7,
    "start_time": "2024-08-31T13:13:49.751Z"
   },
   {
    "duration": 147,
    "start_time": "2024-08-31T13:15:37.347Z"
   },
   {
    "duration": 149,
    "start_time": "2024-08-31T13:16:18.328Z"
   },
   {
    "duration": 772,
    "start_time": "2024-08-31T13:17:28.314Z"
   },
   {
    "duration": 35,
    "start_time": "2024-08-31T13:17:29.088Z"
   },
   {
    "duration": 19,
    "start_time": "2024-08-31T13:17:29.124Z"
   },
   {
    "duration": 147,
    "start_time": "2024-08-31T13:17:29.145Z"
   },
   {
    "duration": 183,
    "start_time": "2024-08-31T13:17:29.294Z"
   },
   {
    "duration": 142,
    "start_time": "2024-08-31T13:17:29.479Z"
   },
   {
    "duration": 188,
    "start_time": "2024-08-31T13:17:29.623Z"
   },
   {
    "duration": 147,
    "start_time": "2024-08-31T13:17:29.813Z"
   },
   {
    "duration": 159,
    "start_time": "2024-08-31T13:17:29.962Z"
   },
   {
    "duration": 6,
    "start_time": "2024-08-31T13:17:30.124Z"
   },
   {
    "duration": 159,
    "start_time": "2024-08-31T13:17:30.142Z"
   },
   {
    "duration": 404,
    "start_time": "2024-08-31T13:17:30.303Z"
   },
   {
    "duration": 335,
    "start_time": "2024-08-31T14:29:53.437Z"
   },
   {
    "duration": 348,
    "start_time": "2024-08-31T14:30:33.537Z"
   },
   {
    "duration": 822,
    "start_time": "2024-08-31T14:42:18.460Z"
   },
   {
    "duration": 35,
    "start_time": "2024-08-31T14:42:19.285Z"
   },
   {
    "duration": 23,
    "start_time": "2024-08-31T14:42:19.322Z"
   },
   {
    "duration": 148,
    "start_time": "2024-08-31T14:42:19.347Z"
   },
   {
    "duration": 183,
    "start_time": "2024-08-31T14:42:19.498Z"
   },
   {
    "duration": 143,
    "start_time": "2024-08-31T14:42:19.683Z"
   },
   {
    "duration": 191,
    "start_time": "2024-08-31T14:42:19.828Z"
   },
   {
    "duration": 136,
    "start_time": "2024-08-31T14:42:20.021Z"
   },
   {
    "duration": 168,
    "start_time": "2024-08-31T14:42:20.159Z"
   },
   {
    "duration": 15,
    "start_time": "2024-08-31T14:42:20.329Z"
   },
   {
    "duration": 165,
    "start_time": "2024-08-31T14:42:20.347Z"
   },
   {
    "duration": 393,
    "start_time": "2024-08-31T14:42:20.514Z"
   },
   {
    "duration": 817,
    "start_time": "2024-08-31T15:08:09.964Z"
   },
   {
    "duration": 36,
    "start_time": "2024-08-31T15:08:10.784Z"
   },
   {
    "duration": 21,
    "start_time": "2024-08-31T15:08:10.822Z"
   },
   {
    "duration": 149,
    "start_time": "2024-08-31T15:08:10.847Z"
   },
   {
    "duration": 175,
    "start_time": "2024-08-31T15:08:10.998Z"
   },
   {
    "duration": 141,
    "start_time": "2024-08-31T15:08:11.175Z"
   },
   {
    "duration": 198,
    "start_time": "2024-08-31T15:08:11.318Z"
   },
   {
    "duration": 144,
    "start_time": "2024-08-31T15:08:11.518Z"
   },
   {
    "duration": 158,
    "start_time": "2024-08-31T15:08:11.664Z"
   },
   {
    "duration": 18,
    "start_time": "2024-08-31T15:08:11.825Z"
   },
   {
    "duration": 165,
    "start_time": "2024-08-31T15:08:11.845Z"
   },
   {
    "duration": 375,
    "start_time": "2024-08-31T15:08:12.012Z"
   },
   {
    "duration": 8,
    "start_time": "2024-09-02T15:21:02.107Z"
   },
   {
    "duration": 170,
    "start_time": "2024-09-03T14:25:51.123Z"
   },
   {
    "duration": 2524,
    "start_time": "2024-09-03T14:25:59.525Z"
   },
   {
    "duration": 47,
    "start_time": "2024-09-03T14:26:02.051Z"
   },
   {
    "duration": 11,
    "start_time": "2024-09-03T14:26:02.100Z"
   },
   {
    "duration": 148,
    "start_time": "2024-09-03T14:26:02.113Z"
   },
   {
    "duration": 171,
    "start_time": "2024-09-03T14:26:02.264Z"
   },
   {
    "duration": 141,
    "start_time": "2024-09-03T14:26:02.437Z"
   },
   {
    "duration": 147,
    "start_time": "2024-09-03T14:26:02.580Z"
   },
   {
    "duration": 135,
    "start_time": "2024-09-03T14:26:02.728Z"
   },
   {
    "duration": 149,
    "start_time": "2024-09-03T14:26:02.865Z"
   },
   {
    "duration": 227,
    "start_time": "2024-09-03T14:26:03.015Z"
   },
   {
    "duration": 7,
    "start_time": "2024-09-03T14:26:03.245Z"
   },
   {
    "duration": 164,
    "start_time": "2024-09-03T14:26:03.254Z"
   },
   {
    "duration": 371,
    "start_time": "2024-09-03T14:26:03.420Z"
   },
   {
    "duration": 942,
    "start_time": "2024-09-03T14:27:39.460Z"
   },
   {
    "duration": 45,
    "start_time": "2024-09-03T14:27:40.404Z"
   },
   {
    "duration": 11,
    "start_time": "2024-09-03T14:27:40.451Z"
   },
   {
    "duration": 170,
    "start_time": "2024-09-03T14:27:40.465Z"
   },
   {
    "duration": 184,
    "start_time": "2024-09-03T14:27:40.637Z"
   },
   {
    "duration": 158,
    "start_time": "2024-09-03T14:27:40.823Z"
   },
   {
    "duration": 226,
    "start_time": "2024-09-03T14:27:40.984Z"
   },
   {
    "duration": 157,
    "start_time": "2024-09-03T14:27:41.213Z"
   },
   {
    "duration": 184,
    "start_time": "2024-09-03T14:27:41.373Z"
   },
   {
    "duration": 8,
    "start_time": "2024-09-03T14:27:41.561Z"
   },
   {
    "duration": 172,
    "start_time": "2024-09-03T14:27:41.571Z"
   },
   {
    "duration": 374,
    "start_time": "2024-09-03T14:27:41.745Z"
   },
   {
    "duration": 130,
    "start_time": "2024-09-03T14:29:48.561Z"
   },
   {
    "duration": 226,
    "start_time": "2024-09-03T14:46:39.459Z"
   },
   {
    "duration": 386,
    "start_time": "2024-09-03T14:47:24.951Z"
   },
   {
    "duration": 45,
    "start_time": "2024-09-03T14:47:55.742Z"
   },
   {
    "duration": 48,
    "start_time": "2024-09-03T14:50:10.654Z"
   },
   {
    "duration": 54,
    "start_time": "2024-09-03T14:50:24.277Z"
   },
   {
    "duration": 22,
    "start_time": "2024-09-03T14:50:52.621Z"
   },
   {
    "duration": 134,
    "start_time": "2024-09-03T14:51:45.389Z"
   },
   {
    "duration": 345,
    "start_time": "2024-09-03T14:52:24.400Z"
   },
   {
    "duration": 130,
    "start_time": "2024-09-03T14:53:46.158Z"
   },
   {
    "duration": 168,
    "start_time": "2024-09-03T14:55:04.762Z"
   },
   {
    "duration": 132,
    "start_time": "2024-09-03T14:55:20.207Z"
   },
   {
    "duration": 131,
    "start_time": "2024-09-03T14:56:18.456Z"
   },
   {
    "duration": 160,
    "start_time": "2024-09-03T15:05:56.798Z"
   },
   {
    "duration": 7,
    "start_time": "2024-09-03T15:13:32.609Z"
   },
   {
    "duration": 824,
    "start_time": "2024-09-03T15:16:52.544Z"
   },
   {
    "duration": 918,
    "start_time": "2024-09-03T15:17:32.228Z"
   },
   {
    "duration": 784,
    "start_time": "2024-09-03T15:39:01.395Z"
   },
   {
    "duration": 54,
    "start_time": "2024-09-03T15:39:02.181Z"
   },
   {
    "duration": 10,
    "start_time": "2024-09-03T15:39:02.237Z"
   },
   {
    "duration": 145,
    "start_time": "2024-09-03T15:39:02.249Z"
   },
   {
    "duration": 169,
    "start_time": "2024-09-03T15:39:02.398Z"
   },
   {
    "duration": 141,
    "start_time": "2024-09-03T15:39:02.569Z"
   },
   {
    "duration": 192,
    "start_time": "2024-09-03T15:39:02.712Z"
   },
   {
    "duration": 142,
    "start_time": "2024-09-03T15:39:02.906Z"
   },
   {
    "duration": 164,
    "start_time": "2024-09-03T15:39:03.050Z"
   },
   {
    "duration": 6,
    "start_time": "2024-09-03T15:39:03.216Z"
   },
   {
    "duration": 808,
    "start_time": "2024-09-03T15:39:03.224Z"
   },
   {
    "duration": 88812,
    "start_time": "2024-09-03T15:40:33.386Z"
   },
   {
    "duration": 283,
    "start_time": "2024-09-03T15:43:43.708Z"
   },
   {
    "duration": 301,
    "start_time": "2024-09-03T15:45:32.285Z"
   },
   {
    "duration": 176,
    "start_time": "2024-09-03T15:45:43.780Z"
   },
   {
    "duration": 147,
    "start_time": "2024-09-03T15:45:56.086Z"
   },
   {
    "duration": 2896,
    "start_time": "2024-09-04T13:10:27.846Z"
   },
   {
    "duration": 48,
    "start_time": "2024-09-04T13:10:30.745Z"
   },
   {
    "duration": 9,
    "start_time": "2024-09-04T13:10:30.795Z"
   },
   {
    "duration": 165,
    "start_time": "2024-09-04T13:10:30.805Z"
   },
   {
    "duration": 192,
    "start_time": "2024-09-04T13:10:30.973Z"
   },
   {
    "duration": 175,
    "start_time": "2024-09-04T13:10:31.167Z"
   },
   {
    "duration": 151,
    "start_time": "2024-09-04T13:10:31.344Z"
   },
   {
    "duration": 164,
    "start_time": "2024-09-04T13:10:31.496Z"
   },
   {
    "duration": 196,
    "start_time": "2024-09-04T13:10:31.662Z"
   },
   {
    "duration": 5,
    "start_time": "2024-09-04T13:10:31.860Z"
   },
   {
    "duration": 997,
    "start_time": "2024-09-04T13:10:31.867Z"
   },
   {
    "duration": 209,
    "start_time": "2024-09-04T13:10:32.866Z"
   },
   {
    "duration": 1347,
    "start_time": "2024-09-04T13:21:08.882Z"
   },
   {
    "duration": 1168,
    "start_time": "2024-09-04T13:24:29.238Z"
   },
   {
    "duration": 1472,
    "start_time": "2024-09-04T13:26:19.996Z"
   },
   {
    "duration": 1174,
    "start_time": "2024-09-04T13:26:32.520Z"
   },
   {
    "duration": 360,
    "start_time": "2024-09-04T13:33:10.453Z"
   },
   {
    "duration": 32,
    "start_time": "2024-09-04T13:36:35.520Z"
   },
   {
    "duration": 234,
    "start_time": "2024-09-04T13:37:50.653Z"
   },
   {
    "duration": 241,
    "start_time": "2024-09-04T13:38:15.868Z"
   },
   {
    "duration": 308,
    "start_time": "2024-09-04T13:38:27.060Z"
   },
   {
    "duration": 304,
    "start_time": "2024-09-04T13:39:38.781Z"
   },
   {
    "duration": 200,
    "start_time": "2024-09-04T13:51:32.154Z"
   },
   {
    "duration": 891,
    "start_time": "2024-09-04T13:56:53.424Z"
   },
   {
    "duration": 61,
    "start_time": "2024-09-04T13:56:54.319Z"
   },
   {
    "duration": 10,
    "start_time": "2024-09-04T13:56:54.382Z"
   },
   {
    "duration": 180,
    "start_time": "2024-09-04T13:56:54.394Z"
   },
   {
    "duration": 203,
    "start_time": "2024-09-04T13:56:54.579Z"
   },
   {
    "duration": 188,
    "start_time": "2024-09-04T13:56:54.784Z"
   },
   {
    "duration": 217,
    "start_time": "2024-09-04T13:56:54.973Z"
   },
   {
    "duration": 177,
    "start_time": "2024-09-04T13:56:55.192Z"
   },
   {
    "duration": 200,
    "start_time": "2024-09-04T13:56:55.371Z"
   },
   {
    "duration": 10,
    "start_time": "2024-09-04T13:56:55.573Z"
   },
   {
    "duration": 434,
    "start_time": "2024-09-04T13:56:55.585Z"
   },
   {
    "duration": 280,
    "start_time": "2024-09-04T13:56:56.023Z"
   },
   {
    "duration": 223,
    "start_time": "2024-09-04T13:59:37.340Z"
   },
   {
    "duration": 911,
    "start_time": "2024-09-04T13:59:59.156Z"
   },
   {
    "duration": 40,
    "start_time": "2024-09-04T14:00:00.071Z"
   },
   {
    "duration": 23,
    "start_time": "2024-09-04T14:00:00.113Z"
   },
   {
    "duration": 154,
    "start_time": "2024-09-04T14:00:00.139Z"
   },
   {
    "duration": 193,
    "start_time": "2024-09-04T14:00:00.295Z"
   },
   {
    "duration": 165,
    "start_time": "2024-09-04T14:00:00.490Z"
   },
   {
    "duration": 209,
    "start_time": "2024-09-04T14:00:00.658Z"
   },
   {
    "duration": 151,
    "start_time": "2024-09-04T14:00:00.869Z"
   },
   {
    "duration": 195,
    "start_time": "2024-09-04T14:00:01.025Z"
   },
   {
    "duration": 9,
    "start_time": "2024-09-04T14:00:01.224Z"
   },
   {
    "duration": 421,
    "start_time": "2024-09-04T14:00:01.235Z"
   },
   {
    "duration": 217,
    "start_time": "2024-09-04T14:00:01.658Z"
   }
  ],
  "kernelspec": {
   "display_name": "Python 3 (ipykernel)",
   "language": "python",
   "name": "python3"
  },
  "language_info": {
   "codemirror_mode": {
    "name": "ipython",
    "version": 3
   },
   "file_extension": ".py",
   "mimetype": "text/x-python",
   "name": "python",
   "nbconvert_exporter": "python",
   "pygments_lexer": "ipython3",
   "version": "3.9.19"
  },
  "toc": {
   "base_numbering": 1,
   "nav_menu": {},
   "number_sections": true,
   "sideBar": true,
   "skip_h1_title": true,
   "title_cell": "Table of Contents",
   "title_sidebar": "Contents",
   "toc_cell": false,
   "toc_position": {},
   "toc_section_display": true,
   "toc_window_display": false
  }
 },
 "nbformat": 4,
 "nbformat_minor": 2
}
